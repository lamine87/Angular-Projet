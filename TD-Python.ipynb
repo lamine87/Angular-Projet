{
  "nbformat": 4,
  "nbformat_minor": 0,
  "metadata": {
    "colab": {
      "provenance": [],
      "include_colab_link": true
    },
    "kernelspec": {
      "name": "python3",
      "display_name": "Python 3"
    },
    "language_info": {
      "name": "python"
    }
  },
  "cells": [
    {
      "cell_type": "markdown",
      "metadata": {
        "id": "view-in-github",
        "colab_type": "text"
      },
      "source": [
        "<a href=\"https://colab.research.google.com/github/lamine87/Angular-Projet/blob/main/TD-Python.ipynb\" target=\"_parent\"><img src=\"https://colab.research.google.com/assets/colab-badge.svg\" alt=\"Open In Colab\"/></a>"
      ]
    },
    {
      "cell_type": "markdown",
      "source": [
        "### Exercice 1 : Permutation de données \n",
        "\n",
        "1) Ecrire un programme qui permet de réaliser les actions suivantes:\n",
        " \n",
        " Demander à l'utilisateur de saisir un nombre a (entier ou réel comme vous le souhaitez) qui sera stocké dans une variable a puis un nombre b de même type que a qui sera stocké dans une variable b.\n",
        "\n",
        "2) Afficher les valeurs de a et de b pour vérification.\n",
        "\n",
        "3) Effectuer la permutation des valeurs contenues dans a et b. En d'autres mots, a prend la valeur de b et b prend la valeur de a.\n",
        "\n",
        "4) Réafficher les valeurs de a et b pour vérifier qu'il y a bien eu permutation."
      ],
      "metadata": {
        "id": "c_HqkeM-QOOq"
      }
    },
    {
      "cell_type": "code",
      "source": [
        "a = input(\"Saisir un entier a\")\n",
        "b = input(\"Saisir un entier b\")\n",
        "\n",
        "print(a)\n",
        "print(b)\n",
        "c=int(b)\n",
        "b=int(a)\n",
        "a=c\n",
        "print(a)\n",
        "print(b)\n"
      ],
      "metadata": {
        "colab": {
          "base_uri": "https://localhost:8080/"
        },
        "id": "1_MMTM2XfAjZ",
        "outputId": "7c09562e-7523-4eb6-bc5d-882ae2999ca5"
      },
      "execution_count": 10,
      "outputs": [
        {
          "output_type": "stream",
          "name": "stdout",
          "text": [
            "Saisir un entier a2\n",
            "Saisir un entier b3\n",
            "2\n",
            "3\n",
            "3 2\n"
          ]
        }
      ]
    },
    {
      "cell_type": "markdown",
      "source": [
        "### Exercice 2 : Affichage de nombres de trois en trois \n",
        "\n",
        "Ecrire un programme qui demande à l'utilisateur de saisir un nombre N et qui affiche les nombres de N à 0 de trois en trois. \n",
        "\n",
        "Exemple pour N=20:\n",
        "\n",
        "20 19 18\n",
        "\n",
        "17 16 15\n",
        "\n",
        "14 13 12\n"
      ],
      "metadata": {
        "id": "ctvwcBKiQjQh"
      }
    },
    {
      "cell_type": "code",
      "source": [
        "n = input(\"Saisir un nombre N :\")\n",
        "c=1 #Compteur de colonne\n",
        "i = int(n) #Compteur de BOUCLE\n",
        "while(i>=0):\n",
        "  print(i, end=\"\")\n",
        "  if c==3:\n",
        "    print(\"\") #retourn à la ligne\n",
        "    c=0\n",
        "  i=i-1\n",
        "  c=c+1"
      ],
      "metadata": {
        "colab": {
          "base_uri": "https://localhost:8080/"
        },
        "id": "ck4tV4NZjsCQ",
        "outputId": "9175b6c2-b201-4ab5-acf9-9e6c02004ec9"
      },
      "execution_count": 44,
      "outputs": [
        {
          "output_type": "stream",
          "name": "stdout",
          "text": [
            "Saisir un nombre N :20\n",
            "201918\n",
            "171615\n",
            "141312\n",
            "11109\n",
            "876\n",
            "543\n",
            "210\n"
          ]
        }
      ]
    },
    {
      "cell_type": "code",
      "source": [
        "\n"
      ],
      "metadata": {
        "id": "NedEpPHTjbh6"
      },
      "execution_count": null,
      "outputs": []
    },
    {
      "cell_type": "markdown",
      "source": [
        "### Exercice 3 : Initiation aux Tuples\n",
        " \n",
        "\n",
        "Ecrire un programme python qui permet de :\n",
        "1. Déclarer et initialiser un tuple.\n",
        "2. Accéder à l’élément qui se trouve en position 1 et l’afficher.\n",
        "3. parcourir les éléments d’un tuple en utilisant une boucle for.\n",
        "4. Vérifier si un élément existe dans un tuple.\n",
        "5. Afficher la longueur d’un tuple.\n",
        "6. Ajouter un élément dans un tuple.\n",
        "7. Supprimer complètement un tuple."
      ],
      "metadata": {
        "id": "lm03cMMaQ129"
      }
    },
    {
      "cell_type": "code",
      "source": [
        "mnTuples= (1,2,3,4,5)\n",
        "mnTuples[0]\n",
        "for n in mnTuples:\n",
        "  print(n)\n",
        "  print(mnTuples[2])\n",
        "longueur = len(mnTuples)\n",
        "print(longueur)\n",
        "#mnTuples[2]\n",
        "#Ajouter un élément dans un tuple pas possible.\n",
        "#Supprimer complètement un tuple."
      ],
      "metadata": {
        "colab": {
          "base_uri": "https://localhost:8080/",
          "height": 131
        },
        "id": "D41xwKgqi90J",
        "outputId": "26a665e4-9f44-4cfa-a127-99ed1c73ca7e"
      },
      "execution_count": 75,
      "outputs": [
        {
          "output_type": "error",
          "ename": "SyntaxError",
          "evalue": "ignored",
          "traceback": [
            "\u001b[0;36m  File \u001b[0;32m\"<ipython-input-75-9d9b42987376>\"\u001b[0;36m, line \u001b[0;32m10\u001b[0m\n\u001b[0;31m    del mnTuples(1)\u001b[0m\n\u001b[0m        ^\u001b[0m\n\u001b[0;31mSyntaxError\u001b[0m\u001b[0;31m:\u001b[0m cannot delete function call\n"
          ]
        }
      ]
    },
    {
      "cell_type": "code",
      "source": [],
      "metadata": {
        "id": "l6kv-oeHHWSh"
      },
      "execution_count": null,
      "outputs": []
    },
    {
      "cell_type": "markdown",
      "source": [
        "### Exercice 4 : Initiation aux Listes \n",
        "\n",
        "Définir la liste : liste =[17, 38, 10, 25, 72], puis effectuez les actions suivantes :\n",
        "\n",
        "– triez et affichez la liste \n",
        "\n",
        "– ajoutez l’élément 12 à la liste et affichez la liste \n",
        "\n",
        "– renversez et affichez la liste \n",
        "\n",
        "– affichez l’indice de l’élément 17 \n",
        "\n",
        "– enlevez l’élément 38 et affichez la liste \n",
        "\n",
        "– affichez la sous-liste du 2e au 3e élément \n",
        "\n",
        "– affichez la sous-liste du début au 2e élément \n",
        "\n",
        "– affichez la sous-liste du 3e élément à la fin de la liste \n",
        "\n",
        "– affichez la sous-liste complète de la liste "
      ],
      "metadata": {
        "id": "_3xiJS3_RCPc"
      }
    },
    {
      "cell_type": "code",
      "source": [
        "maListe = [17, 38, 10, 25, 72]\n",
        "maListe.sort()\n",
        "print(maListe) \n",
        "maListe.append(12)\n",
        "print(maListe)\n",
        "\n",
        "print(maListe.index(17))\n",
        "maListe.remove(38)\n",
        "print(maListe)\n",
        "print(maListe[2:3])\n",
        "\n",
        "\n",
        "nombres = [17, 38, 10, 25, 72]\n",
        "print(\" Liste initiale \".center(50, '-'))\n",
        "print(nombres, '\\n')\n",
        "rien = input('\"Entree\"')\n",
        "print(\" Tri \".center(50, '-'))\n",
        "nombres.sort()\n",
        "print(nombres, '\\n')\n",
        "rien = input('\"Entree\"')\n",
        "print(\" Ajout d'un element \".center(50, '-'))\n",
        "nombres.append(12)\n",
        "print(nombres, '\\n')\n",
        "rien = input('\"Entree\"')\n",
        "print(\" Retournement \".center(50, '-'))\n",
        "nombres.reverse()\n",
        "print(nombres, '\\n')\n",
        "rien = input('\"Entree\"')\n",
        "print(\" Indice d'un element \".center(50, '-'))\n",
        "print(nombres.index(17)),\n",
        "nombres = [17, 38, 10, 25, 72]\n",
        "print(\" Liste initiale \".center(50, '-'))\n",
        "print(nombres, '\\n')\n",
        "rien = input('\"Entree\"')\n",
        "print(\" Tri \".center(50, '-'))\n",
        "nombres.sort()\n",
        "print(nombres, '\\n')\n",
        "rien = input('\"Entree\"')\n",
        "print(\" Ajout d'un element \".center(50, '-'))\n",
        "nombres.append(12)\n",
        "print(nombres, '\\n')\n",
        "rien = input('\"Entree\"')\n",
        "print(\" Retournement \".center(50, '-'))\n",
        "nombres.reverse()\n",
        "print(nombres, '\\n')\n",
        "rien = input('\"Entree\"')\n",
        "print(\" Indice d'un element \".center(50, '-'))\n",
        "print(nombres.index(17))"
      ],
      "metadata": {
        "colab": {
          "base_uri": "https://localhost:8080/",
          "height": 520
        },
        "id": "gCG_T3WDHXf-",
        "outputId": "bef7e8a4-feef-4b44-a568-5b2189e84685"
      },
      "execution_count": 103,
      "outputs": [
        {
          "output_type": "stream",
          "name": "stdout",
          "text": [
            "[10, 17, 25, 38, 72]\n",
            "[10, 17, 25, 38, 72, 12]\n",
            "1\n",
            "[10, 17, 25, 72, 12]\n",
            "[25]\n",
            "----------------- Liste initiale -----------------\n",
            "[17, 38, 10, 25, 72] \n",
            "\n"
          ]
        },
        {
          "output_type": "error",
          "ename": "KeyboardInterrupt",
          "evalue": "ignored",
          "traceback": [
            "\u001b[0;31m---------------------------------------------------------------------------\u001b[0m",
            "\u001b[0;31mKeyboardInterrupt\u001b[0m                         Traceback (most recent call last)",
            "\u001b[0;32m<ipython-input-103-50eb75fde7e3>\u001b[0m in \u001b[0;36m<module>\u001b[0;34m\u001b[0m\n\u001b[1;32m     14\u001b[0m \u001b[0mprint\u001b[0m\u001b[0;34m(\u001b[0m\u001b[0;34m\" Liste initiale \"\u001b[0m\u001b[0;34m.\u001b[0m\u001b[0mcenter\u001b[0m\u001b[0;34m(\u001b[0m\u001b[0;36m50\u001b[0m\u001b[0;34m,\u001b[0m \u001b[0;34m'-'\u001b[0m\u001b[0;34m)\u001b[0m\u001b[0;34m)\u001b[0m\u001b[0;34m\u001b[0m\u001b[0;34m\u001b[0m\u001b[0m\n\u001b[1;32m     15\u001b[0m \u001b[0mprint\u001b[0m\u001b[0;34m(\u001b[0m\u001b[0mnombres\u001b[0m\u001b[0;34m,\u001b[0m \u001b[0;34m'\\n'\u001b[0m\u001b[0;34m)\u001b[0m\u001b[0;34m\u001b[0m\u001b[0;34m\u001b[0m\u001b[0m\n\u001b[0;32m---> 16\u001b[0;31m \u001b[0mrien\u001b[0m \u001b[0;34m=\u001b[0m \u001b[0minput\u001b[0m\u001b[0;34m(\u001b[0m\u001b[0;34m'\"Entree\"'\u001b[0m\u001b[0;34m)\u001b[0m\u001b[0;34m\u001b[0m\u001b[0;34m\u001b[0m\u001b[0m\n\u001b[0m\u001b[1;32m     17\u001b[0m \u001b[0mprint\u001b[0m\u001b[0;34m(\u001b[0m\u001b[0;34m\" Tri \"\u001b[0m\u001b[0;34m.\u001b[0m\u001b[0mcenter\u001b[0m\u001b[0;34m(\u001b[0m\u001b[0;36m50\u001b[0m\u001b[0;34m,\u001b[0m \u001b[0;34m'-'\u001b[0m\u001b[0;34m)\u001b[0m\u001b[0;34m)\u001b[0m\u001b[0;34m\u001b[0m\u001b[0;34m\u001b[0m\u001b[0m\n\u001b[1;32m     18\u001b[0m \u001b[0mnombres\u001b[0m\u001b[0;34m.\u001b[0m\u001b[0msort\u001b[0m\u001b[0;34m(\u001b[0m\u001b[0;34m)\u001b[0m\u001b[0;34m\u001b[0m\u001b[0;34m\u001b[0m\u001b[0m\n",
            "\u001b[0;32m/usr/local/lib/python3.8/dist-packages/ipykernel/kernelbase.py\u001b[0m in \u001b[0;36mraw_input\u001b[0;34m(self, prompt)\u001b[0m\n\u001b[1;32m    858\u001b[0m                 \u001b[0;34m\"raw_input was called, but this frontend does not support input requests.\"\u001b[0m\u001b[0;34m\u001b[0m\u001b[0;34m\u001b[0m\u001b[0m\n\u001b[1;32m    859\u001b[0m             )\n\u001b[0;32m--> 860\u001b[0;31m         return self._input_request(str(prompt),\n\u001b[0m\u001b[1;32m    861\u001b[0m             \u001b[0mself\u001b[0m\u001b[0;34m.\u001b[0m\u001b[0m_parent_ident\u001b[0m\u001b[0;34m,\u001b[0m\u001b[0;34m\u001b[0m\u001b[0;34m\u001b[0m\u001b[0m\n\u001b[1;32m    862\u001b[0m             \u001b[0mself\u001b[0m\u001b[0;34m.\u001b[0m\u001b[0m_parent_header\u001b[0m\u001b[0;34m,\u001b[0m\u001b[0;34m\u001b[0m\u001b[0;34m\u001b[0m\u001b[0m\n",
            "\u001b[0;32m/usr/local/lib/python3.8/dist-packages/ipykernel/kernelbase.py\u001b[0m in \u001b[0;36m_input_request\u001b[0;34m(self, prompt, ident, parent, password)\u001b[0m\n\u001b[1;32m    902\u001b[0m             \u001b[0;32mexcept\u001b[0m \u001b[0mKeyboardInterrupt\u001b[0m\u001b[0;34m:\u001b[0m\u001b[0;34m\u001b[0m\u001b[0;34m\u001b[0m\u001b[0m\n\u001b[1;32m    903\u001b[0m                 \u001b[0;31m# re-raise KeyboardInterrupt, to truncate traceback\u001b[0m\u001b[0;34m\u001b[0m\u001b[0;34m\u001b[0m\u001b[0;34m\u001b[0m\u001b[0m\n\u001b[0;32m--> 904\u001b[0;31m                 \u001b[0;32mraise\u001b[0m \u001b[0mKeyboardInterrupt\u001b[0m\u001b[0;34m(\u001b[0m\u001b[0;34m\"Interrupted by user\"\u001b[0m\u001b[0;34m)\u001b[0m \u001b[0;32mfrom\u001b[0m \u001b[0;32mNone\u001b[0m\u001b[0;34m\u001b[0m\u001b[0;34m\u001b[0m\u001b[0m\n\u001b[0m\u001b[1;32m    905\u001b[0m             \u001b[0;32mexcept\u001b[0m \u001b[0mException\u001b[0m \u001b[0;32mas\u001b[0m \u001b[0me\u001b[0m\u001b[0;34m:\u001b[0m\u001b[0;34m\u001b[0m\u001b[0;34m\u001b[0m\u001b[0m\n\u001b[1;32m    906\u001b[0m                 \u001b[0mself\u001b[0m\u001b[0;34m.\u001b[0m\u001b[0mlog\u001b[0m\u001b[0;34m.\u001b[0m\u001b[0mwarning\u001b[0m\u001b[0;34m(\u001b[0m\u001b[0;34m\"Invalid Message:\"\u001b[0m\u001b[0;34m,\u001b[0m \u001b[0mexc_info\u001b[0m\u001b[0;34m=\u001b[0m\u001b[0;32mTrue\u001b[0m\u001b[0;34m)\u001b[0m\u001b[0;34m\u001b[0m\u001b[0;34m\u001b[0m\u001b[0m\n",
            "\u001b[0;31mKeyboardInterrupt\u001b[0m: Interrupted by user"
          ]
        }
      ]
    },
    {
      "cell_type": "markdown",
      "source": [
        "### Exercice 5 : Doublons d'une liste \n",
        "\n",
        "Écrire un programme python qui supprime les doublons d’une liste.\n",
        "\n",
        " Par exemple pour une liste L=[1,2,2,1,2,1], le programme renvoie [1,2]."
      ],
      "metadata": {
        "id": "fMCl-vZrRbyf"
      }
    },
    {
      "cell_type": "code",
      "source": [
        "L = [1, 2, 2, 1, 2, 1]\n",
        "for e in L:\n",
        "    if L.count(e)>1:\n",
        "      for i in range(L.count(e)-1):\n",
        "        L.remove(e)\n",
        "\n",
        "\n",
        "print(L)"
      ],
      "metadata": {
        "colab": {
          "base_uri": "https://localhost:8080/"
        },
        "id": "trrmo8EiRlRB",
        "outputId": "118d42e2-eb9c-4aa9-d468-23e4ce75bcbc"
      },
      "execution_count": 101,
      "outputs": [
        {
          "output_type": "stream",
          "name": "stdout",
          "text": [
            "[2, 1]\n"
          ]
        }
      ]
    },
    {
      "cell_type": "markdown",
      "source": [
        "### Exerice 6 : Indice de la masse corporelle \n",
        "\n",
        "Ecrire une fonction qui permet de calculer l'Indice de Masse Corporelle (IMC) donné par la formule suivante:\n",
        "\n",
        " 𝐼𝑀𝐶 =𝑝𝑜𝑖𝑑𝑠/𝑡𝑎𝑖𝑙𝑙𝑒^2\n",
        "\n",
        "La fonction admettra en entrée deux arguments ou paramètres (le poids et la taille), et retourne la valeur de l'IMC.\n",
        "\n",
        "Ecrire le programme principal permettant de tester la fonction"
      ],
      "metadata": {
        "id": "rNThg28eRqzo"
      }
    },
    {
      "cell_type": "code",
      "source": [
        "def imc(Poids,Taille):\n",
        "\treturn Poids/(Taille**2)\n",
        "\n",
        "\n",
        "#Programme Principal\n",
        "print(\"----------------------------\")\n",
        "Poids= int(input(\"Quel est votre poids (kg): \"))\n",
        "\n",
        "\n",
        "print(\"----------------------------\")\n",
        "Taille= float(input(\"Quelle est votre taille (m): \"))\n",
        "\n",
        "print(\"----------------------------\")\n",
        "print(\"Vous pesez \" , Poids , \" kg et vous mesurez \" , Taille , \" m. Votre IMC est \" , imc(Poids, Taille))\n"
      ],
      "metadata": {
        "colab": {
          "base_uri": "https://localhost:8080/"
        },
        "id": "F2uSoFOjezqE",
        "outputId": "d54121bb-450a-469f-ffb0-cca2551022d4"
      },
      "execution_count": 119,
      "outputs": [
        {
          "output_type": "stream",
          "name": "stdout",
          "text": [
            "----------------------------\n",
            "Quel est votre poids (kg): 34\n",
            "----------------------------\n",
            "Quelle est votre taille (m): 2447\n",
            "----------------------------\n",
            "Vous pesez  34  kg et vous mesurez  2447.0  m. Votre IMC est  5.678203830482903e-06\n"
          ]
        }
      ]
    },
    {
      "cell_type": "markdown",
      "source": [
        "### Exercice 7 : Conversion de la température \n",
        "\n",
        "Ecrire une fonction pour effectuer la conversion de température de degré Celsius en degré Fahrenheit. \n",
        "\n",
        "La formule pour la conversion est\n",
        " 𝑇𝐹𝑎ℎ𝑟𝑒𝑛ℎ𝑒𝑖𝑡=9/5 𝑇𝐶𝑒𝑙𝑠𝑖𝑢𝑠+ 32\n",
        "\n",
        "La fonction admettra un paramètre (la température en degré Celsius) en entrée et retourne la température convertie en degré Fahrenheit.\n",
        "\n",
        "Ecrire le programme principal permettant de tester la fonction."
      ],
      "metadata": {
        "id": "kVeysgOVSBGc"
      }
    },
    {
      "cell_type": "code",
      "source": [
        "def conversion_temperature_de_C_en_F(TemperatureEnC):\n",
        "\tTemperatureEnF = 0.0\n",
        "\tTemperatureEnF = ((9.0/5.0)*TemperatureEnC) + 32.0\n",
        "\treturn TemperatureEnF\n",
        "\n",
        "\n",
        "TemperatureEnC= float(input(\"Donner la temperature en degre Celsius: \"))\n",
        "\n",
        "\n",
        "TemperatureEnF =conversion_temperature_de_C_en_F(TemperatureEnC)\n",
        "\n",
        "print(TemperatureEnC , \" degre Celsius = \" , TemperatureEnF , \" degre Fahrenheit\" )\n",
        "\n",
        "print(TemperatureEnC , \" degre Celsius = \" , \"{:.2f}\".format(TemperatureEnF) , \" degre Fahrenheit\" )"
      ],
      "metadata": {
        "colab": {
          "base_uri": "https://localhost:8080/"
        },
        "id": "VPAfuLisp9Zl",
        "outputId": "ace8a252-e517-4256-d018-c1797fa9bb8b"
      },
      "execution_count": 120,
      "outputs": [
        {
          "output_type": "stream",
          "name": "stdout",
          "text": [
            "Donner la temperature en degre Celsius: 11\n",
            "11.0  degre Celsius =  51.8  degre Fahrenheit\n",
            "11.0  degre Celsius =  51.80  degre Fahrenheit\n"
          ]
        }
      ]
    },
    {
      "cell_type": "markdown",
      "source": [
        "### Exercice 8 : Palindrome \n",
        "\n",
        "Ecrire dans un programme une fonction qui indique, si une chaîne de caractères est ou non un palindrome\n",
        ".\n",
        "1. Sans utiliser une boucle\n",
        "\n",
        "2. En utilisant une boucle\n",
        "\n",
        "N.B : -un palindrome est un mot qui peut s’écrire dans les deux sens, exemple : radar\n",
        "\n",
        "-La commande list(chaine) permet de transformer une chaîne de caractères en liste de caractères."
      ],
      "metadata": {
        "id": "bcCFMmwHSTxZ"
      }
    },
    {
      "cell_type": "code",
      "source": [
        "# Sans utiliser une boucle\n",
        "def palindrome(mot):\n",
        "\tinverse=mot[-1::-1]\n",
        "\tif inverse==mot:\n",
        "\t\treturn True\n",
        "\telse:\n",
        "\t\treturn False\n",
        "\n",
        "\n",
        "saisie= input(\"Votre mot : \")\n",
        "if (palindrome(saisie)):\n",
        "\tprint(\"Ceci est un palindrome\")\n",
        "else:\n",
        "\tprint(\"Ceci n'est pas un palindrome\")\n",
        "\n",
        "\n",
        "# En utilisant une boucle\n",
        "def palindrome(mot_test):\n",
        "\ttab=list(mot_test)\n",
        "\ttaille=len(mot_test)\n",
        "\tfor i in range(taille): #compare le premier caractere avec le dernier, puis le deuxieme avec l avant dernier et ainsi de suite\n",
        "if tab[i]!=tab[taille-i]: #Si les caracteres testes ne sont pas egaux la fonction palindrome retourne false\n",
        "\t\t\treturn(False)\n",
        "\treturn(True)\n",
        "\n",
        "\n",
        "saisie= input(\"Votre mot : \")\n",
        "if (palindrome(saisie)):\n",
        "\tprint(\"Ceci est un palindrome\")\n",
        "else:\n",
        "\tprint(\"Ceci n'est pas un palindrome\")"
      ],
      "metadata": {
        "id": "vcq1Evp1sBWt"
      },
      "execution_count": null,
      "outputs": []
    },
    {
      "cell_type": "markdown",
      "source": [
        "### Exercice 9 : Longueur d'une chaîne \n",
        "\n",
        " Ecrire un script python qui demande de saisir 2 chaines de caractères et qui affiche la plus grande des deux chaînes (celle qui a le plus de caractères)."
      ],
      "metadata": {
        "id": "WzQO4RKuSkrq"
      }
    },
    {
      "cell_type": "code",
      "source": [
        "g= input(\"Saisir un premer mot : \")\n",
        "\n",
        "long_g = len(g)\n",
        "print(\"La taille  est : \",long_g)\n",
        "\n",
        "p= input(\"Saisir un deuxieme mot : \")\n",
        "\n",
        "long_p = len(p)\n",
        "print(\"La taille est : \",long_p)\n",
        "if(long_g>long_p):\n",
        "  print(g,\"Est le plus grand\")\n",
        "else:\n",
        "    print(p,\"Est le plus grand\")\n",
        "\n",
        "\n",
        "chaine1= input(\"Chaine 1:\")\n",
        "chaine2= input(\"Chaine 2:\")\n",
        "if (len(chaine2) > len(chaine1)):\n",
        "\tprint(\"La chaine la plus grande:\" + chaine2)\n",
        "else:\n",
        "\t\n",
        "\tprint(\"La chaine la plus grande:\" + chaine1)"
      ],
      "metadata": {
        "colab": {
          "base_uri": "https://localhost:8080/"
        },
        "id": "qc0wV1l6jwsx",
        "outputId": "563ac487-f49e-4f2c-cf3e-20e206b4ccd0"
      },
      "execution_count": 123,
      "outputs": [
        {
          "output_type": "stream",
          "name": "stdout",
          "text": [
            "Saisir un premer mot : Anticonstitutionnellement\n",
            "La taille  est :  25\n",
            "Saisir un deuxieme mot : Antidote\n",
            "La taille est :  8\n",
            "Anticonstitutionnellement Est le plus grand\n"
          ]
        }
      ]
    }
  ]
}